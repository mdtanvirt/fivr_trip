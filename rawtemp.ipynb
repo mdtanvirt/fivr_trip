{
 "cells": [
  {
   "cell_type": "code",
   "execution_count": 184,
   "metadata": {},
   "outputs": [
    {
     "data": {
      "text/html": [
       "<div>\n",
       "<style scoped>\n",
       "    .dataframe tbody tr th:only-of-type {\n",
       "        vertical-align: middle;\n",
       "    }\n",
       "\n",
       "    .dataframe tbody tr th {\n",
       "        vertical-align: top;\n",
       "    }\n",
       "\n",
       "    .dataframe thead th {\n",
       "        text-align: right;\n",
       "    }\n",
       "</style>\n",
       "<table border=\"1\" class=\"dataframe\">\n",
       "  <thead>\n",
       "    <tr style=\"text-align: right;\">\n",
       "      <th></th>\n",
       "      <th>type</th>\n",
       "      <th>geometry.coordinates</th>\n",
       "      <th>geometry.type</th>\n",
       "      <th>properties.avspeed</th>\n",
       "      <th>properties.distance</th>\n",
       "      <th>properties.duration</th>\n",
       "      <th>properties.endtime</th>\n",
       "      <th>properties.maxspeed</th>\n",
       "      <th>properties.minspeed</th>\n",
       "      <th>properties.starttime</th>\n",
       "      <th>properties.streetnames</th>\n",
       "      <th>properties.taxiid</th>\n",
       "      <th>properties.tripid</th>\n",
       "    </tr>\n",
       "  </thead>\n",
       "  <tbody>\n",
       "    <tr>\n",
       "      <th>0</th>\n",
       "      <td>Feature</td>\n",
       "      <td>[[-8.6063, 41.1446]]</td>\n",
       "      <td>LineString</td>\n",
       "      <td>16.096640</td>\n",
       "      <td>0.000000</td>\n",
       "      <td>0</td>\n",
       "      <td>2013-10-01 00:00:43</td>\n",
       "      <td>16.096640</td>\n",
       "      <td>16.096640</td>\n",
       "      <td>2013-10-01 00:00:43</td>\n",
       "      <td>[Praca da Batalha]</td>\n",
       "      <td>20000305</td>\n",
       "      <td>417118</td>\n",
       "    </tr>\n",
       "    <tr>\n",
       "      <th>1</th>\n",
       "      <td>Feature</td>\n",
       "      <td>[[-8.59347, 41.1508]]</td>\n",
       "      <td>LineString</td>\n",
       "      <td>20.463175</td>\n",
       "      <td>0.000000</td>\n",
       "      <td>0</td>\n",
       "      <td>2013-10-01 00:18:29</td>\n",
       "      <td>20.463175</td>\n",
       "      <td>20.463175</td>\n",
       "      <td>2013-10-01 00:18:29</td>\n",
       "      <td>[Rua do Bonfim]</td>\n",
       "      <td>20000463</td>\n",
       "      <td>417135</td>\n",
       "    </tr>\n",
       "    <tr>\n",
       "      <th>2</th>\n",
       "      <td>Feature</td>\n",
       "      <td>[[-8.67233, 41.149], [-8.67232, 41.149], [-8.6...</td>\n",
       "      <td>LineString</td>\n",
       "      <td>37.208155</td>\n",
       "      <td>6201.451072</td>\n",
       "      <td>585</td>\n",
       "      <td>2013-10-01 00:21:11</td>\n",
       "      <td>70.406355</td>\n",
       "      <td>0.200952</td>\n",
       "      <td>2013-10-01 00:11:26</td>\n",
       "      <td>[Rua do Passeio Alegre, Rua do Passeio Alegre,...</td>\n",
       "      <td>20000105</td>\n",
       "      <td>417142</td>\n",
       "    </tr>\n",
       "  </tbody>\n",
       "</table>\n",
       "</div>"
      ],
      "text/plain": [
       "      type                               geometry.coordinates geometry.type  \\\n",
       "0  Feature                               [[-8.6063, 41.1446]]    LineString   \n",
       "1  Feature                              [[-8.59347, 41.1508]]    LineString   \n",
       "2  Feature  [[-8.67233, 41.149], [-8.67232, 41.149], [-8.6...    LineString   \n",
       "\n",
       "   properties.avspeed  properties.distance  properties.duration  \\\n",
       "0           16.096640             0.000000                    0   \n",
       "1           20.463175             0.000000                    0   \n",
       "2           37.208155          6201.451072                  585   \n",
       "\n",
       "    properties.endtime  properties.maxspeed  properties.minspeed  \\\n",
       "0  2013-10-01 00:00:43            16.096640            16.096640   \n",
       "1  2013-10-01 00:18:29            20.463175            20.463175   \n",
       "2  2013-10-01 00:21:11            70.406355             0.200952   \n",
       "\n",
       "  properties.starttime                             properties.streetnames  \\\n",
       "0  2013-10-01 00:00:43                                 [Praca da Batalha]   \n",
       "1  2013-10-01 00:18:29                                    [Rua do Bonfim]   \n",
       "2  2013-10-01 00:11:26  [Rua do Passeio Alegre, Rua do Passeio Alegre,...   \n",
       "\n",
       "  properties.taxiid  properties.tripid  \n",
       "0          20000305             417118  \n",
       "1          20000463             417135  \n",
       "2          20000105             417142  "
      ]
     },
     "execution_count": 184,
     "metadata": {},
     "output_type": "execute_result"
    }
   ],
   "source": [
    "import pandas as pd\n",
    "import numpy as np\n",
    "import json\n",
    "with open('trips.json', 'r') as f:\n",
    "    data = json.loads(f.read())\n",
    "\n",
    "# Normalize data\n",
    "df = pd.json_normalize(data, record_path =['features'])\n",
    "\n",
    "# Set index\n",
    "#df = df.set_index('properties.tripid')\n",
    "\n",
    "df.head(3)"
   ]
  },
  {
   "cell_type": "code",
   "execution_count": 185,
   "metadata": {},
   "outputs": [
    {
     "name": "stdout",
     "output_type": "stream",
     "text": [
      "         type                               geometry.coordinates  \\\n",
      "0     Feature                               [[-8.6063, 41.1446]]   \n",
      "1     Feature                              [[-8.59347, 41.1508]]   \n",
      "2     Feature  [[-8.67233, 41.149], [-8.67232, 41.149], [-8.6...   \n",
      "3     Feature  [[-8.67237, 41.149], [-8.67239, 41.149], [-8.6...   \n",
      "4     Feature  [[-8.67989, 41.1566], [-8.6799, 41.1566], [-8....   \n",
      "...       ...                                                ...   \n",
      "2495  Feature  [[-8.66069, 41.1986], [-8.65742, 41.2009], [-8...   \n",
      "2496  Feature  [[-8.6106, 41.1412], [-8.60914, 41.1409], [-8....   \n",
      "2497  Feature  [[-8.65474, 41.1736], [-8.65477, 41.1735], [-8...   \n",
      "2498  Feature  [[-8.60007, 41.1827], [-8.60027, 41.1827], [-8...   \n",
      "2499  Feature  [[-8.62104, 41.161], [-8.62106, 41.1607], [-8....   \n",
      "\n",
      "     geometry.type  properties.avspeed  properties.distance  \\\n",
      "0       LineString           16.096640             0.000000   \n",
      "1       LineString           20.463175             0.000000   \n",
      "2       LineString           37.208155          6201.451072   \n",
      "3       LineString           32.824985          5893.478819   \n",
      "4       LineString           32.336558          5666.998333   \n",
      "...            ...                 ...                  ...   \n",
      "2495    LineString           48.404243          6103.951187   \n",
      "2496    LineString           33.714486          6400.614120   \n",
      "2497    LineString           24.596086          7279.182562   \n",
      "2498    LineString           30.712999          5187.207658   \n",
      "2499    LineString           25.063411          7522.258758   \n",
      "\n",
      "      properties.duration   properties.endtime  properties.maxspeed  \\\n",
      "0                       0  2013-10-01 00:00:43            16.096640   \n",
      "1                       0  2013-10-01 00:18:29            20.463175   \n",
      "2                     585  2013-10-01 00:21:11            70.406355   \n",
      "3                     630  2013-10-01 00:22:08            77.164897   \n",
      "4                     615  2013-10-01 00:17:42            67.193220   \n",
      "...                   ...                  ...                  ...   \n",
      "2495                  450  2013-10-01 12:52:38           121.186301   \n",
      "2496                  675  2013-10-01 13:13:11            64.278800   \n",
      "2497                 1050  2013-10-01 12:44:18            89.065215   \n",
      "2498                  600  2013-10-01 13:14:10            81.213647   \n",
      "2499                 1065  2013-10-01 09:31:40            63.098308   \n",
      "\n",
      "      properties.minspeed properties.starttime  \\\n",
      "0               16.096640  2013-10-01 00:00:43   \n",
      "1               20.463175  2013-10-01 00:18:29   \n",
      "2                0.200952  2013-10-01 00:11:26   \n",
      "3                0.000000  2013-10-01 00:11:38   \n",
      "4                0.200914  2013-10-01 00:07:27   \n",
      "...                   ...                  ...   \n",
      "2495             0.000000  2013-10-01 12:45:08   \n",
      "2496             0.000000  2013-10-01 13:01:56   \n",
      "2497             0.000000  2013-10-01 12:26:48   \n",
      "2498             0.000000  2013-10-01 13:04:10   \n",
      "2499             0.000000  2013-10-01 09:13:55   \n",
      "\n",
      "                                 properties.streetnames properties.taxiid  \\\n",
      "0                                    [Praca da Batalha]          20000305   \n",
      "1                                       [Rua do Bonfim]          20000463   \n",
      "2     [Rua do Passeio Alegre, Rua do Passeio Alegre,...          20000105   \n",
      "3     [Rua de Passos Manuel, Rua do Doutor Magalhaes...          20000488   \n",
      "4     [Avenida da Boavista, Avenida da Boavista, Ave...          20000022   \n",
      "...                                                 ...               ...   \n",
      "2495  [E82, E82, E82, Rua do Pinhal, VRI, VRI, E82, ...          20000349   \n",
      "2496  [Avenida de Paiva Couceiro, Mercado Abastecedo...          20000267   \n",
      "2497  [Via de Cintura Interna, Rua de Sao Joao Novo,...          20000206   \n",
      "2498  [Avenida Doutor Domingos Goncalves de Sa, Aven...          20000682   \n",
      "2499  [Via Engenheiro Edgar Cardoso, Praca de Mouzin...          20000482   \n",
      "\n",
      "      properties.tripid  \n",
      "0                417118  \n",
      "1                417135  \n",
      "2                417142  \n",
      "3                417145  \n",
      "4                417155  \n",
      "...                 ...  \n",
      "2495             419991  \n",
      "2496             419992  \n",
      "2497             419993  \n",
      "2498             419995  \n",
      "2499             419996  \n",
      "\n",
      "[2500 rows x 13 columns]\n"
     ]
    }
   ],
   "source": [
    "print(df)"
   ]
  },
  {
   "cell_type": "markdown",
   "metadata": {},
   "source": [
    "#### Some calculation on raw data"
   ]
  },
  {
   "cell_type": "code",
   "execution_count": 186,
   "metadata": {},
   "outputs": [
    {
     "name": "stdout",
     "output_type": "stream",
     "text": [
      "Duplicate Rows based on Trip ID : Empty DataFrame\n",
      "Columns: [type, geometry.coordinates, geometry.type, properties.avspeed, properties.distance, properties.duration, properties.endtime, properties.maxspeed, properties.minspeed, properties.starttime, properties.streetnames, properties.taxiid, properties.tripid]\n",
      "Index: []\n"
     ]
    }
   ],
   "source": [
    "# check for duplicate trip id\n",
    "duplicate_trip = df[df.duplicated('properties.tripid')]\n",
    "print(\"Duplicate Rows based on Trip ID :\", duplicate_trip)"
   ]
  },
  {
   "cell_type": "code",
   "execution_count": 187,
   "metadata": {},
   "outputs": [
    {
     "name": "stdout",
     "output_type": "stream",
     "text": [
      "Duplicate Rows based on Taxi :          type                               geometry.coordinates  \\\n",
      "5     Feature  [[-8.61094, 41.1457], [-8.61088, 41.1459], [-8...   \n",
      "16    Feature  [[-8.6132, 41.1544], [-8.61326, 41.1543], [-8....   \n",
      "22    Feature  [[-8.6098, 41.1564], [-8.60989, 41.1553], [-8....   \n",
      "33    Feature  [[-8.58926, 41.1697], [-8.58941, 41.1697], [-8...   \n",
      "35    Feature  [[-8.60989, 41.1519], [-8.61026, 41.1517], [-8...   \n",
      "...       ...                                                ...   \n",
      "2495  Feature  [[-8.66069, 41.1986], [-8.65742, 41.2009], [-8...   \n",
      "2496  Feature  [[-8.6106, 41.1412], [-8.60914, 41.1409], [-8....   \n",
      "2497  Feature  [[-8.65474, 41.1736], [-8.65477, 41.1735], [-8...   \n",
      "2498  Feature  [[-8.60007, 41.1827], [-8.60027, 41.1827], [-8...   \n",
      "2499  Feature  [[-8.62104, 41.161], [-8.62106, 41.1607], [-8....   \n",
      "\n",
      "     geometry.type  properties.avspeed  properties.distance  \\\n",
      "5       LineString           28.400255          5204.851286   \n",
      "16      LineString           14.316962          1668.988770   \n",
      "22      LineString           40.645612          1769.184915   \n",
      "33      LineString           26.162436          1519.693639   \n",
      "35      LineString           22.247275          1786.070360   \n",
      "...            ...                 ...                  ...   \n",
      "2495    LineString           48.404243          6103.951187   \n",
      "2496    LineString           33.714486          6400.614120   \n",
      "2497    LineString           24.596086          7279.182562   \n",
      "2498    LineString           30.712999          5187.207658   \n",
      "2499    LineString           25.063411          7522.258758   \n",
      "\n",
      "      properties.duration   properties.endtime  properties.maxspeed  \\\n",
      "5                     645  2013-10-01 00:18:54            64.741055   \n",
      "16                    405  2013-10-01 00:56:11            48.130846   \n",
      "22                    150  2013-10-01 01:08:56           158.352483   \n",
      "33                    195  2013-10-01 01:23:52            42.227227   \n",
      "35                    285  2013-10-01 00:42:27            57.625920   \n",
      "...                   ...                  ...                  ...   \n",
      "2495                  450  2013-10-01 12:52:38           121.186301   \n",
      "2496                  675  2013-10-01 13:13:11            64.278800   \n",
      "2497                 1050  2013-10-01 12:44:18            89.065215   \n",
      "2498                  600  2013-10-01 13:14:10            81.213647   \n",
      "2499                 1065  2013-10-01 09:31:40            63.098308   \n",
      "\n",
      "      properties.minspeed properties.starttime  \\\n",
      "5                0.603158  2013-10-01 00:08:09   \n",
      "16               0.200911  2013-10-01 00:49:26   \n",
      "22               5.512011  2013-10-01 01:06:26   \n",
      "33               2.009117  2013-10-01 01:20:37   \n",
      "35               1.607497  2013-10-01 00:37:42   \n",
      "...                   ...                  ...   \n",
      "2495             0.000000  2013-10-01 12:45:08   \n",
      "2496             0.000000  2013-10-01 13:01:56   \n",
      "2497             0.000000  2013-10-01 12:26:48   \n",
      "2498             0.000000  2013-10-01 13:04:10   \n",
      "2499             0.000000  2013-10-01 09:13:55   \n",
      "\n",
      "                                 properties.streetnames properties.taxiid  \\\n",
      "5     [Rua Formosa, Praca de Almeida Garrett, Rua de...          20000305   \n",
      "16    [Rua de Faria Guimaraes, Rua de Faria Guimarae...          20000367   \n",
      "22    [Rua Doutor Alberto Aires de Gouveia, Rua de E...          20000231   \n",
      "33    [Rua de Costa Cabral, Rua de Costa Cabral, Rua...          20000561   \n",
      "35    [Rua de Camoes, Rua dos Herois e dos Martires ...          20000649   \n",
      "...                                                 ...               ...   \n",
      "2495  [E82, E82, E82, Rua do Pinhal, VRI, VRI, E82, ...          20000349   \n",
      "2496  [Avenida de Paiva Couceiro, Mercado Abastecedo...          20000267   \n",
      "2497  [Via de Cintura Interna, Rua de Sao Joao Novo,...          20000206   \n",
      "2498  [Avenida Doutor Domingos Goncalves de Sa, Aven...          20000682   \n",
      "2499  [Via Engenheiro Edgar Cardoso, Praca de Mouzin...          20000482   \n",
      "\n",
      "      properties.tripid  \n",
      "5                417156  \n",
      "16               417201  \n",
      "22               417210  \n",
      "33               417228  \n",
      "35               417230  \n",
      "...                 ...  \n",
      "2495             419991  \n",
      "2496             419992  \n",
      "2497             419993  \n",
      "2498             419995  \n",
      "2499             419996  \n",
      "\n",
      "[2118 rows x 13 columns]\n"
     ]
    }
   ],
   "source": [
    "# check  for duplicate Taxiid\n",
    "duplicate_taxi = df[df.duplicated('properties.taxiid')]\n",
    "print(\"Duplicate Rows based on Taxi :\", duplicate_taxi)"
   ]
  },
  {
   "cell_type": "code",
   "execution_count": 188,
   "metadata": {},
   "outputs": [
    {
     "name": "stdout",
     "output_type": "stream",
     "text": [
      "382\n",
      "2500\n",
      "2500\n",
      "2500\n"
     ]
    }
   ],
   "source": [
    "# Count distinct values from taxi id column\n",
    "print(df['properties.taxiid'].nunique())\n",
    "\n",
    "# Count only non-null values\n",
    "print(df['properties.taxiid'].count())\n",
    "\n",
    "# Count total values including null values from taxi id column\n",
    "print(df['properties.taxiid'].size)\n",
    "\n",
    "# Count distinct values from trip id column\n",
    "print(df['properties.tripid'].nunique())"
   ]
  },
  {
   "cell_type": "code",
   "execution_count": 189,
   "metadata": {},
   "outputs": [
    {
     "data": {
      "text/plain": [
       "type                      0\n",
       "geometry.coordinates      0\n",
       "geometry.type             0\n",
       "properties.avspeed        0\n",
       "properties.distance       0\n",
       "properties.duration       0\n",
       "properties.endtime        0\n",
       "properties.maxspeed       0\n",
       "properties.minspeed       0\n",
       "properties.starttime      0\n",
       "properties.streetnames    0\n",
       "properties.taxiid         0\n",
       "properties.tripid         0\n",
       "dtype: int64"
      ]
     },
     "execution_count": 189,
     "metadata": {},
     "output_type": "execute_result"
    }
   ],
   "source": [
    "# Count empty values of df\n",
    "df.isnull().sum()"
   ]
  },
  {
   "cell_type": "markdown",
   "metadata": {},
   "source": [
    "#### Explore Raw data"
   ]
  },
  {
   "cell_type": "code",
   "execution_count": 190,
   "metadata": {},
   "outputs": [
    {
     "data": {
      "text/html": [
       "<div>\n",
       "<style scoped>\n",
       "    .dataframe tbody tr th:only-of-type {\n",
       "        vertical-align: middle;\n",
       "    }\n",
       "\n",
       "    .dataframe tbody tr th {\n",
       "        vertical-align: top;\n",
       "    }\n",
       "\n",
       "    .dataframe thead th {\n",
       "        text-align: right;\n",
       "    }\n",
       "</style>\n",
       "<table border=\"1\" class=\"dataframe\">\n",
       "  <thead>\n",
       "    <tr style=\"text-align: right;\">\n",
       "      <th></th>\n",
       "      <th>type</th>\n",
       "      <th>geometry.coordinates</th>\n",
       "      <th>geometry.type</th>\n",
       "      <th>properties.avspeed</th>\n",
       "      <th>properties.distance</th>\n",
       "      <th>properties.duration</th>\n",
       "      <th>properties.endtime</th>\n",
       "      <th>properties.maxspeed</th>\n",
       "      <th>properties.minspeed</th>\n",
       "      <th>properties.starttime</th>\n",
       "      <th>properties.taxiid</th>\n",
       "      <th>properties.tripid</th>\n",
       "    </tr>\n",
       "  </thead>\n",
       "  <tbody>\n",
       "    <tr>\n",
       "      <th>0</th>\n",
       "      <td>Feature</td>\n",
       "      <td>[-8.6063, 41.1446]</td>\n",
       "      <td>LineString</td>\n",
       "      <td>16.096640</td>\n",
       "      <td>0.000000</td>\n",
       "      <td>0</td>\n",
       "      <td>2013-10-01 00:00:43</td>\n",
       "      <td>16.096640</td>\n",
       "      <td>16.096640</td>\n",
       "      <td>2013-10-01 00:00:43</td>\n",
       "      <td>20000305</td>\n",
       "      <td>417118</td>\n",
       "    </tr>\n",
       "    <tr>\n",
       "      <th>1</th>\n",
       "      <td>Feature</td>\n",
       "      <td>[-8.59347, 41.1508]</td>\n",
       "      <td>LineString</td>\n",
       "      <td>20.463175</td>\n",
       "      <td>0.000000</td>\n",
       "      <td>0</td>\n",
       "      <td>2013-10-01 00:18:29</td>\n",
       "      <td>20.463175</td>\n",
       "      <td>20.463175</td>\n",
       "      <td>2013-10-01 00:18:29</td>\n",
       "      <td>20000463</td>\n",
       "      <td>417135</td>\n",
       "    </tr>\n",
       "    <tr>\n",
       "      <th>2</th>\n",
       "      <td>Feature</td>\n",
       "      <td>[-8.67233, 41.149]</td>\n",
       "      <td>LineString</td>\n",
       "      <td>37.208155</td>\n",
       "      <td>6201.451072</td>\n",
       "      <td>585</td>\n",
       "      <td>2013-10-01 00:21:11</td>\n",
       "      <td>70.406355</td>\n",
       "      <td>0.200952</td>\n",
       "      <td>2013-10-01 00:11:26</td>\n",
       "      <td>20000105</td>\n",
       "      <td>417142</td>\n",
       "    </tr>\n",
       "    <tr>\n",
       "      <th>2</th>\n",
       "      <td>Feature</td>\n",
       "      <td>[-8.67232, 41.149]</td>\n",
       "      <td>LineString</td>\n",
       "      <td>37.208155</td>\n",
       "      <td>6201.451072</td>\n",
       "      <td>585</td>\n",
       "      <td>2013-10-01 00:21:11</td>\n",
       "      <td>70.406355</td>\n",
       "      <td>0.200952</td>\n",
       "      <td>2013-10-01 00:11:26</td>\n",
       "      <td>20000105</td>\n",
       "      <td>417142</td>\n",
       "    </tr>\n",
       "    <tr>\n",
       "      <th>2</th>\n",
       "      <td>Feature</td>\n",
       "      <td>[-8.67083, 41.1488]</td>\n",
       "      <td>LineString</td>\n",
       "      <td>37.208155</td>\n",
       "      <td>6201.451072</td>\n",
       "      <td>585</td>\n",
       "      <td>2013-10-01 00:21:11</td>\n",
       "      <td>70.406355</td>\n",
       "      <td>0.200952</td>\n",
       "      <td>2013-10-01 00:11:26</td>\n",
       "      <td>20000105</td>\n",
       "      <td>417142</td>\n",
       "    </tr>\n",
       "  </tbody>\n",
       "</table>\n",
       "</div>"
      ],
      "text/plain": [
       "      type geometry.coordinates geometry.type  properties.avspeed  \\\n",
       "0  Feature   [-8.6063, 41.1446]    LineString           16.096640   \n",
       "1  Feature  [-8.59347, 41.1508]    LineString           20.463175   \n",
       "2  Feature   [-8.67233, 41.149]    LineString           37.208155   \n",
       "2  Feature   [-8.67232, 41.149]    LineString           37.208155   \n",
       "2  Feature  [-8.67083, 41.1488]    LineString           37.208155   \n",
       "\n",
       "   properties.distance  properties.duration   properties.endtime  \\\n",
       "0             0.000000                    0  2013-10-01 00:00:43   \n",
       "1             0.000000                    0  2013-10-01 00:18:29   \n",
       "2          6201.451072                  585  2013-10-01 00:21:11   \n",
       "2          6201.451072                  585  2013-10-01 00:21:11   \n",
       "2          6201.451072                  585  2013-10-01 00:21:11   \n",
       "\n",
       "   properties.maxspeed  properties.minspeed properties.starttime  \\\n",
       "0            16.096640            16.096640  2013-10-01 00:00:43   \n",
       "1            20.463175            20.463175  2013-10-01 00:18:29   \n",
       "2            70.406355             0.200952  2013-10-01 00:11:26   \n",
       "2            70.406355             0.200952  2013-10-01 00:11:26   \n",
       "2            70.406355             0.200952  2013-10-01 00:11:26   \n",
       "\n",
       "  properties.taxiid  properties.tripid  \n",
       "0          20000305             417118  \n",
       "1          20000463             417135  \n",
       "2          20000105             417142  \n",
       "2          20000105             417142  \n",
       "2          20000105             417142  "
      ]
     },
     "execution_count": 190,
     "metadata": {},
     "output_type": "execute_result"
    }
   ],
   "source": [
    "# Explore for coordinates\n",
    "gcod_df = df.explode('geometry.coordinates')\n",
    "# Remove column name 'properties.streetnames'\n",
    "gcod_df = gcod_df.drop(['properties.streetnames'], axis=1)\n",
    "gcod_df.head(5)"
   ]
  },
  {
   "cell_type": "code",
   "execution_count": 191,
   "metadata": {},
   "outputs": [
    {
     "name": "stdout",
     "output_type": "stream",
     "text": [
      "<class 'pandas.core.frame.DataFrame'>\n",
      "Int64Index: 128831 entries, 0 to 2499\n",
      "Data columns (total 12 columns):\n",
      " #   Column                Non-Null Count   Dtype  \n",
      "---  ------                --------------   -----  \n",
      " 0   type                  128831 non-null  object \n",
      " 1   geometry.coordinates  128831 non-null  object \n",
      " 2   geometry.type         128831 non-null  object \n",
      " 3   properties.avspeed    128831 non-null  float64\n",
      " 4   properties.distance   128831 non-null  float64\n",
      " 5   properties.duration   128831 non-null  int64  \n",
      " 6   properties.endtime    128831 non-null  object \n",
      " 7   properties.maxspeed   128831 non-null  float64\n",
      " 8   properties.minspeed   128831 non-null  float64\n",
      " 9   properties.starttime  128831 non-null  object \n",
      " 10  properties.taxiid     128831 non-null  object \n",
      " 11  properties.tripid     128831 non-null  int64  \n",
      "dtypes: float64(4), int64(2), object(6)\n",
      "memory usage: 12.8+ MB\n"
     ]
    }
   ],
   "source": [
    "gcod_df.info()"
   ]
  },
  {
   "cell_type": "code",
   "execution_count": 192,
   "metadata": {},
   "outputs": [
    {
     "data": {
      "text/html": [
       "<div>\n",
       "<style scoped>\n",
       "    .dataframe tbody tr th:only-of-type {\n",
       "        vertical-align: middle;\n",
       "    }\n",
       "\n",
       "    .dataframe tbody tr th {\n",
       "        vertical-align: top;\n",
       "    }\n",
       "\n",
       "    .dataframe thead th {\n",
       "        text-align: right;\n",
       "    }\n",
       "</style>\n",
       "<table border=\"1\" class=\"dataframe\">\n",
       "  <thead>\n",
       "    <tr style=\"text-align: right;\">\n",
       "      <th></th>\n",
       "      <th>lon</th>\n",
       "      <th>lat</th>\n",
       "    </tr>\n",
       "  </thead>\n",
       "  <tbody>\n",
       "    <tr>\n",
       "      <th>0</th>\n",
       "      <td>-8.60630</td>\n",
       "      <td>41.1446</td>\n",
       "    </tr>\n",
       "    <tr>\n",
       "      <th>1</th>\n",
       "      <td>-8.59347</td>\n",
       "      <td>41.1508</td>\n",
       "    </tr>\n",
       "    <tr>\n",
       "      <th>2</th>\n",
       "      <td>-8.67233</td>\n",
       "      <td>41.1490</td>\n",
       "    </tr>\n",
       "    <tr>\n",
       "      <th>3</th>\n",
       "      <td>-8.67232</td>\n",
       "      <td>41.1490</td>\n",
       "    </tr>\n",
       "    <tr>\n",
       "      <th>4</th>\n",
       "      <td>-8.67083</td>\n",
       "      <td>41.1488</td>\n",
       "    </tr>\n",
       "  </tbody>\n",
       "</table>\n",
       "</div>"
      ],
      "text/plain": [
       "       lon      lat\n",
       "0 -8.60630  41.1446\n",
       "1 -8.59347  41.1508\n",
       "2 -8.67233  41.1490\n",
       "3 -8.67232  41.1490\n",
       "4 -8.67083  41.1488"
      ]
     },
     "execution_count": 192,
     "metadata": {},
     "output_type": "execute_result"
    }
   ],
   "source": [
    "gcod_splt_df = pd.DataFrame(gcod_df[\"geometry.coordinates\"].to_list(), columns=['lon', 'lat'])\n",
    "gcod_splt_df.head(5)"
   ]
  },
  {
   "cell_type": "code",
   "execution_count": 193,
   "metadata": {},
   "outputs": [
    {
     "name": "stdout",
     "output_type": "stream",
     "text": [
      "<class 'pandas.core.frame.DataFrame'>\n",
      "RangeIndex: 128831 entries, 0 to 128830\n",
      "Data columns (total 2 columns):\n",
      " #   Column  Non-Null Count   Dtype  \n",
      "---  ------  --------------   -----  \n",
      " 0   lon     128831 non-null  float64\n",
      " 1   lat     128831 non-null  float64\n",
      "dtypes: float64(2)\n",
      "memory usage: 2.0 MB\n"
     ]
    }
   ],
   "source": [
    "gcod_splt_df.info()"
   ]
  },
  {
   "cell_type": "code",
   "execution_count": 194,
   "metadata": {},
   "outputs": [
    {
     "data": {
      "text/plain": [
       "128831"
      ]
     },
     "execution_count": 194,
     "metadata": {},
     "output_type": "execute_result"
    }
   ],
   "source": [
    "gcod_splt_df.shape[0]"
   ]
  },
  {
   "cell_type": "code",
   "execution_count": 195,
   "metadata": {},
   "outputs": [
    {
     "data": {
      "text/plain": [
       "128831"
      ]
     },
     "execution_count": 195,
     "metadata": {},
     "output_type": "execute_result"
    }
   ],
   "source": [
    "gcod_df.shape[0]"
   ]
  },
  {
   "cell_type": "code",
   "execution_count": 196,
   "metadata": {},
   "outputs": [
    {
     "data": {
      "text/html": [
       "<div>\n",
       "<style scoped>\n",
       "    .dataframe tbody tr th:only-of-type {\n",
       "        vertical-align: middle;\n",
       "    }\n",
       "\n",
       "    .dataframe tbody tr th {\n",
       "        vertical-align: top;\n",
       "    }\n",
       "\n",
       "    .dataframe thead th {\n",
       "        text-align: right;\n",
       "    }\n",
       "</style>\n",
       "<table border=\"1\" class=\"dataframe\">\n",
       "  <thead>\n",
       "    <tr style=\"text-align: right;\">\n",
       "      <th></th>\n",
       "      <th>type</th>\n",
       "      <th>geometry.type</th>\n",
       "      <th>properties.avspeed</th>\n",
       "      <th>properties.distance</th>\n",
       "      <th>properties.duration</th>\n",
       "      <th>properties.endtime</th>\n",
       "      <th>properties.maxspeed</th>\n",
       "      <th>properties.minspeed</th>\n",
       "      <th>properties.starttime</th>\n",
       "      <th>properties.streetnames</th>\n",
       "      <th>properties.taxiid</th>\n",
       "      <th>properties.tripid</th>\n",
       "    </tr>\n",
       "  </thead>\n",
       "  <tbody>\n",
       "    <tr>\n",
       "      <th>0</th>\n",
       "      <td>Feature</td>\n",
       "      <td>LineString</td>\n",
       "      <td>16.096640</td>\n",
       "      <td>0.000000</td>\n",
       "      <td>0</td>\n",
       "      <td>2013-10-01 00:00:43</td>\n",
       "      <td>16.096640</td>\n",
       "      <td>16.096640</td>\n",
       "      <td>2013-10-01 00:00:43</td>\n",
       "      <td>Praca da Batalha</td>\n",
       "      <td>20000305</td>\n",
       "      <td>417118</td>\n",
       "    </tr>\n",
       "    <tr>\n",
       "      <th>1</th>\n",
       "      <td>Feature</td>\n",
       "      <td>LineString</td>\n",
       "      <td>20.463175</td>\n",
       "      <td>0.000000</td>\n",
       "      <td>0</td>\n",
       "      <td>2013-10-01 00:18:29</td>\n",
       "      <td>20.463175</td>\n",
       "      <td>20.463175</td>\n",
       "      <td>2013-10-01 00:18:29</td>\n",
       "      <td>Rua do Bonfim</td>\n",
       "      <td>20000463</td>\n",
       "      <td>417135</td>\n",
       "    </tr>\n",
       "    <tr>\n",
       "      <th>2</th>\n",
       "      <td>Feature</td>\n",
       "      <td>LineString</td>\n",
       "      <td>37.208155</td>\n",
       "      <td>6201.451072</td>\n",
       "      <td>585</td>\n",
       "      <td>2013-10-01 00:21:11</td>\n",
       "      <td>70.406355</td>\n",
       "      <td>0.200952</td>\n",
       "      <td>2013-10-01 00:11:26</td>\n",
       "      <td>Rua do Passeio Alegre</td>\n",
       "      <td>20000105</td>\n",
       "      <td>417142</td>\n",
       "    </tr>\n",
       "    <tr>\n",
       "      <th>2</th>\n",
       "      <td>Feature</td>\n",
       "      <td>LineString</td>\n",
       "      <td>37.208155</td>\n",
       "      <td>6201.451072</td>\n",
       "      <td>585</td>\n",
       "      <td>2013-10-01 00:21:11</td>\n",
       "      <td>70.406355</td>\n",
       "      <td>0.200952</td>\n",
       "      <td>2013-10-01 00:11:26</td>\n",
       "      <td>Rua do Passeio Alegre</td>\n",
       "      <td>20000105</td>\n",
       "      <td>417142</td>\n",
       "    </tr>\n",
       "    <tr>\n",
       "      <th>2</th>\n",
       "      <td>Feature</td>\n",
       "      <td>LineString</td>\n",
       "      <td>37.208155</td>\n",
       "      <td>6201.451072</td>\n",
       "      <td>585</td>\n",
       "      <td>2013-10-01 00:21:11</td>\n",
       "      <td>70.406355</td>\n",
       "      <td>0.200952</td>\n",
       "      <td>2013-10-01 00:11:26</td>\n",
       "      <td>Rua do Passeio Alegre</td>\n",
       "      <td>20000105</td>\n",
       "      <td>417142</td>\n",
       "    </tr>\n",
       "  </tbody>\n",
       "</table>\n",
       "</div>"
      ],
      "text/plain": [
       "      type geometry.type  properties.avspeed  properties.distance  \\\n",
       "0  Feature    LineString           16.096640             0.000000   \n",
       "1  Feature    LineString           20.463175             0.000000   \n",
       "2  Feature    LineString           37.208155          6201.451072   \n",
       "2  Feature    LineString           37.208155          6201.451072   \n",
       "2  Feature    LineString           37.208155          6201.451072   \n",
       "\n",
       "   properties.duration   properties.endtime  properties.maxspeed  \\\n",
       "0                    0  2013-10-01 00:00:43            16.096640   \n",
       "1                    0  2013-10-01 00:18:29            20.463175   \n",
       "2                  585  2013-10-01 00:21:11            70.406355   \n",
       "2                  585  2013-10-01 00:21:11            70.406355   \n",
       "2                  585  2013-10-01 00:21:11            70.406355   \n",
       "\n",
       "   properties.minspeed properties.starttime properties.streetnames  \\\n",
       "0            16.096640  2013-10-01 00:00:43       Praca da Batalha   \n",
       "1            20.463175  2013-10-01 00:18:29          Rua do Bonfim   \n",
       "2             0.200952  2013-10-01 00:11:26  Rua do Passeio Alegre   \n",
       "2             0.200952  2013-10-01 00:11:26  Rua do Passeio Alegre   \n",
       "2             0.200952  2013-10-01 00:11:26  Rua do Passeio Alegre   \n",
       "\n",
       "  properties.taxiid  properties.tripid  \n",
       "0          20000305             417118  \n",
       "1          20000463             417135  \n",
       "2          20000105             417142  \n",
       "2          20000105             417142  \n",
       "2          20000105             417142  "
      ]
     },
     "execution_count": 196,
     "metadata": {},
     "output_type": "execute_result"
    }
   ],
   "source": [
    "# Explore for Street names\n",
    "gcod_street_df = df.explode('properties.streetnames')\n",
    "# Remove column name 'geometry.coordinates'\n",
    "gcod_street_df = gcod_street_df.drop(['geometry.coordinates'], axis=1)\n",
    "gcod_street_df.head(5)"
   ]
  },
  {
   "cell_type": "code",
   "execution_count": 197,
   "metadata": {},
   "outputs": [
    {
     "data": {
      "text/plain": [
       "128831"
      ]
     },
     "execution_count": 197,
     "metadata": {},
     "output_type": "execute_result"
    }
   ],
   "source": [
    "gcod_street_df.shape[0]"
   ]
  },
  {
   "cell_type": "code",
   "execution_count": 198,
   "metadata": {},
   "outputs": [
    {
     "name": "stdout",
     "output_type": "stream",
     "text": [
      "Rows count for gcode df: 128831\n",
      "Rows count of gcode for lat/lon: 128831\n",
      "Rows count of gcode for streets: 128831\n"
     ]
    }
   ],
   "source": [
    "# Crosee check all the data usinf shape\n",
    "print('Rows count for gcode df:', gcod_df.shape[0])\n",
    "print('Rows count of gcode for lat/lon:', gcod_splt_df.shape[0])\n",
    "print('Rows count of gcode for streets:', gcod_street_df.shape[0])"
   ]
  },
  {
   "cell_type": "markdown",
   "metadata": {},
   "source": [
    "### So there is no records meessing considering rows counts of each and every Dataframe created *****"
   ]
  },
  {
   "cell_type": "code",
   "execution_count": 199,
   "metadata": {},
   "outputs": [
    {
     "name": "stdout",
     "output_type": "stream",
     "text": [
      "            lon      lat\n",
      "0      -8.60630  41.1446\n",
      "1      -8.59347  41.1508\n",
      "2      -8.67233  41.1490\n",
      "3      -8.67232  41.1490\n",
      "4      -8.67083  41.1488\n",
      "...         ...      ...\n",
      "128826 -8.62488  41.1253\n",
      "128827 -8.62477  41.1261\n",
      "128828 -8.62465  41.1263\n",
      "128829 -8.62465  41.1263\n",
      "128830 -8.62465  41.1263\n",
      "\n",
      "[128831 rows x 2 columns]\n"
     ]
    }
   ],
   "source": [
    "geocode_lat_lon = gcod_splt_df.filter(['lon','lat'], axis=1)\n",
    "print(geocode_lat_lon)"
   ]
  },
  {
   "cell_type": "code",
   "execution_count": 200,
   "metadata": {},
   "outputs": [
    {
     "name": "stdout",
     "output_type": "stream",
     "text": [
      "      properties.tripid          properties.streetnames\n",
      "0                417118                Praca da Batalha\n",
      "1                417135                   Rua do Bonfim\n",
      "2                417142           Rua do Passeio Alegre\n",
      "2                417142           Rua do Passeio Alegre\n",
      "2                417142           Rua do Passeio Alegre\n",
      "...                 ...                             ...\n",
      "2499             419996              Rua de Serpa Pinto\n",
      "2499             419996  Rua de Nossa Senhora de Fatima\n",
      "2499             419996  Rua de Nossa Senhora de Fatima\n",
      "2499             419996                 Rua dos Burgaes\n",
      "2499             419996            Largo da Ramada Alta\n",
      "\n",
      "[128831 rows x 2 columns]\n"
     ]
    }
   ],
   "source": [
    "geo_street_trip_map_df = gcod_street_df.filter(['properties.tripid','properties.streetnames'], axis=1)\n",
    "print(geo_street_trip_map_df)"
   ]
  },
  {
   "cell_type": "code",
   "execution_count": 201,
   "metadata": {},
   "outputs": [
    {
     "name": "stdout",
     "output_type": "stream",
     "text": [
      "              properties.streetnames\n",
      "0                   Praca da Batalha\n",
      "1                      Rua do Bonfim\n",
      "2              Rua do Passeio Alegre\n",
      "2              Rua do Passeio Alegre\n",
      "2              Rua do Passeio Alegre\n",
      "...                              ...\n",
      "2499              Rua de Serpa Pinto\n",
      "2499  Rua de Nossa Senhora de Fatima\n",
      "2499  Rua de Nossa Senhora de Fatima\n",
      "2499                 Rua dos Burgaes\n",
      "2499            Largo da Ramada Alta\n",
      "\n",
      "[128831 rows x 1 columns]\n"
     ]
    }
   ],
   "source": [
    "streets_list = gcod_street_df.filter(['properties.streetnames'], axis=1)\n",
    "print(streets_list)"
   ]
  },
  {
   "cell_type": "code",
   "execution_count": 202,
   "metadata": {},
   "outputs": [
    {
     "name": "stdout",
     "output_type": "stream",
     "text": [
      "                                 properties.streetnames  \\\n",
      "0                                    [Praca da Batalha]   \n",
      "1                                       [Rua do Bonfim]   \n",
      "2     [Rua do Passeio Alegre, Rua do Passeio Alegre,...   \n",
      "3     [Rua de Passos Manuel, Rua do Doutor Magalhaes...   \n",
      "4     [Avenida da Boavista, Avenida da Boavista, Ave...   \n",
      "...                                                 ...   \n",
      "2495  [E82, E82, E82, Rua do Pinhal, VRI, VRI, E82, ...   \n",
      "2496  [Avenida de Paiva Couceiro, Mercado Abastecedo...   \n",
      "2497  [Via de Cintura Interna, Rua de Sao Joao Novo,...   \n",
      "2498  [Avenida Doutor Domingos Goncalves de Sa, Aven...   \n",
      "2499  [Via Engenheiro Edgar Cardoso, Praca de Mouzin...   \n",
      "\n",
      "                                   geometry.coordinates  \n",
      "0                                  [[-8.6063, 41.1446]]  \n",
      "1                                 [[-8.59347, 41.1508]]  \n",
      "2     [[-8.67233, 41.149], [-8.67232, 41.149], [-8.6...  \n",
      "3     [[-8.67237, 41.149], [-8.67239, 41.149], [-8.6...  \n",
      "4     [[-8.67989, 41.1566], [-8.6799, 41.1566], [-8....  \n",
      "...                                                 ...  \n",
      "2495  [[-8.66069, 41.1986], [-8.65742, 41.2009], [-8...  \n",
      "2496  [[-8.6106, 41.1412], [-8.60914, 41.1409], [-8....  \n",
      "2497  [[-8.65474, 41.1736], [-8.65477, 41.1735], [-8...  \n",
      "2498  [[-8.60007, 41.1827], [-8.60027, 41.1827], [-8...  \n",
      "2499  [[-8.62104, 41.161], [-8.62106, 41.1607], [-8....  \n",
      "\n",
      "[2500 rows x 2 columns]\n"
     ]
    }
   ],
   "source": [
    "# This is for temporary data frame for street_name and coordinates\n",
    "temp_street_coord = df.filter(['properties.streetnames', 'geometry.coordinates'], axis=1)\n",
    "print(temp_street_coord)"
   ]
  },
  {
   "cell_type": "code",
   "execution_count": 203,
   "metadata": {},
   "outputs": [
    {
     "name": "stdout",
     "output_type": "stream",
     "text": [
      "              properties.streetnames\n",
      "0                   Praca da Batalha\n",
      "1                      Rua do Bonfim\n",
      "2              Rua do Passeio Alegre\n",
      "2              Rua do Passeio Alegre\n",
      "2              Rua do Passeio Alegre\n",
      "...                              ...\n",
      "2499              Rua de Serpa Pinto\n",
      "2499  Rua de Nossa Senhora de Fatima\n",
      "2499  Rua de Nossa Senhora de Fatima\n",
      "2499                 Rua dos Burgaes\n",
      "2499            Largo da Ramada Alta\n",
      "\n",
      "[128831 rows x 1 columns]\n"
     ]
    }
   ],
   "source": [
    "# Now explore temporary dataframe for street name\n",
    "temp_street_exp = temp_street_coord.explode('properties.streetnames')\n",
    "temp_street_exp = temp_street_exp.drop(['geometry.coordinates'], axis=1)\n",
    "print(temp_street_exp)"
   ]
  },
  {
   "cell_type": "code",
   "execution_count": 204,
   "metadata": {},
   "outputs": [
    {
     "name": "stdout",
     "output_type": "stream",
     "text": [
      "            lon      lat\n",
      "0      -8.60630  41.1446\n",
      "1      -8.59347  41.1508\n",
      "2      -8.67233  41.1490\n",
      "3      -8.67232  41.1490\n",
      "4      -8.67083  41.1488\n",
      "...         ...      ...\n",
      "128826 -8.62488  41.1253\n",
      "128827 -8.62477  41.1261\n",
      "128828 -8.62465  41.1263\n",
      "128829 -8.62465  41.1263\n",
      "128830 -8.62465  41.1263\n",
      "\n",
      "[128831 rows x 2 columns]\n"
     ]
    }
   ],
   "source": [
    "print(gcod_splt_df)"
   ]
  },
  {
   "cell_type": "code",
   "execution_count": 228,
   "metadata": {},
   "outputs": [
    {
     "name": "stdout",
     "output_type": "stream",
     "text": [
      "      properties.tripid          properties.streetnames  lon  lat\n",
      "0              417118.0                Praca da Batalha  NaN  NaN\n",
      "1              417135.0                   Rua do Bonfim  NaN  NaN\n",
      "2              417142.0           Rua do Passeio Alegre  NaN  NaN\n",
      "2              417142.0           Rua do Passeio Alegre  NaN  NaN\n",
      "2              417142.0           Rua do Passeio Alegre  NaN  NaN\n",
      "...                 ...                             ...  ...  ...\n",
      "2499           419996.0              Rua de Serpa Pinto  NaN  NaN\n",
      "2499           419996.0  Rua de Nossa Senhora de Fatima  NaN  NaN\n",
      "2499           419996.0  Rua de Nossa Senhora de Fatima  NaN  NaN\n",
      "2499           419996.0                 Rua dos Burgaes  NaN  NaN\n",
      "2499           419996.0            Largo da Ramada Alta  NaN  NaN\n",
      "\n",
      "[128831 rows x 4 columns]\n"
     ]
    }
   ],
   "source": [
    "trips_street_merge_df = pd.concat([geo_street_trip_map_df, temp_street_exp, gcod_splt_df])\n",
    "#trips_street_merge_df = df.groupby(['properties.tripid', 'properties.streetnames', 'lon', 'lat']).size()\n",
    "#trips_street_merge_df = trips_street_merge_df.set_index('properties.tripid')\n",
    "trips_street_merge_df=trips_street_merge_df.dropna(subset=['properties.tripid'])\n",
    "print(trips_street_merge_df)"
   ]
  },
  {
   "cell_type": "code",
   "execution_count": null,
   "metadata": {},
   "outputs": [],
   "source": []
  }
 ],
 "metadata": {
  "kernelspec": {
   "display_name": "Python 3.10.4 ('venv': venv)",
   "language": "python",
   "name": "python3"
  },
  "language_info": {
   "codemirror_mode": {
    "name": "ipython",
    "version": 3
   },
   "file_extension": ".py",
   "mimetype": "text/x-python",
   "name": "python",
   "nbconvert_exporter": "python",
   "pygments_lexer": "ipython3",
   "version": "3.10.4"
  },
  "orig_nbformat": 4,
  "vscode": {
   "interpreter": {
    "hash": "a2831d7af873abda9b836fad7f7bbde7e6d9b0dea0ad36513c55fccd3dbef299"
   }
  }
 },
 "nbformat": 4,
 "nbformat_minor": 2
}
