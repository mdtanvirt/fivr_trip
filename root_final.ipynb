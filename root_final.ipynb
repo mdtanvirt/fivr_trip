{
 "cells": [
  {
   "cell_type": "code",
   "execution_count": 5,
   "metadata": {},
   "outputs": [
    {
     "name": "stdout",
     "output_type": "stream",
     "text": [
      "      type                               geometry.coordinates geometry.type  \\\n",
      "0  Feature                               [[-8.6063, 41.1446]]    LineString   \n",
      "1  Feature                              [[-8.59347, 41.1508]]    LineString   \n",
      "2  Feature  [[-8.67233, 41.149], [-8.67232, 41.149], [-8.6...    LineString   \n",
      "3  Feature  [[-8.67237, 41.149], [-8.67239, 41.149], [-8.6...    LineString   \n",
      "4  Feature  [[-8.67989, 41.1566], [-8.6799, 41.1566], [-8....    LineString   \n",
      "\n",
      "   properties.avspeed  properties.distance  properties.duration  \\\n",
      "0           16.096640             0.000000                    0   \n",
      "1           20.463175             0.000000                    0   \n",
      "2           37.208155          6201.451072                  585   \n",
      "3           32.824985          5893.478819                  630   \n",
      "4           32.336558          5666.998333                  615   \n",
      "\n",
      "    properties.endtime  properties.maxspeed  properties.minspeed  \\\n",
      "0  2013-10-01 00:00:43            16.096640            16.096640   \n",
      "1  2013-10-01 00:18:29            20.463175            20.463175   \n",
      "2  2013-10-01 00:21:11            70.406355             0.200952   \n",
      "3  2013-10-01 00:22:08            77.164897             0.000000   \n",
      "4  2013-10-01 00:17:42            67.193220             0.200914   \n",
      "\n",
      "  properties.starttime                             properties.streetnames  \\\n",
      "0  2013-10-01 00:00:43                                 [Praca da Batalha]   \n",
      "1  2013-10-01 00:18:29                                    [Rua do Bonfim]   \n",
      "2  2013-10-01 00:11:26  [Rua do Passeio Alegre, Rua do Passeio Alegre,...   \n",
      "3  2013-10-01 00:11:38  [Rua de Passos Manuel, Rua do Doutor Magalhaes...   \n",
      "4  2013-10-01 00:07:27  [Avenida da Boavista, Avenida da Boavista, Ave...   \n",
      "\n",
      "  properties.taxiid  properties.tripid  \n",
      "0          20000305             417118  \n",
      "1          20000463             417135  \n",
      "2          20000105             417142  \n",
      "3          20000488             417145  \n",
      "4          20000022             417155  \n",
      "type geometry.coordinates geometry.type properties.avspeed properties.distance properties.duration properties.endtime properties.maxspeed properties.minspeed properties.starttime properties.streetnames properties.taxiid properties.tripid\n"
     ]
    }
   ],
   "source": [
    "import pandas as pd\n",
    "import numpy as np\n",
    "import json\n",
    "with open('trips.json', 'r') as f:\n",
    "    data = json.loads(f.read())\n",
    "\n",
    "# Normalize data\n",
    "df = pd.json_normalize(data, record_path =['features'])\n",
    "df.head(5)"
   ]
  },
  {
   "cell_type": "code",
   "execution_count": null,
   "metadata": {},
   "outputs": [],
   "source": []
  }
 ],
 "metadata": {
  "kernelspec": {
   "display_name": "Python 3.10.4 ('venv': venv)",
   "language": "python",
   "name": "python3"
  },
  "language_info": {
   "codemirror_mode": {
    "name": "ipython",
    "version": 3
   },
   "file_extension": ".py",
   "mimetype": "text/x-python",
   "name": "python",
   "nbconvert_exporter": "python",
   "pygments_lexer": "ipython3",
   "version": "3.10.4"
  },
  "orig_nbformat": 4,
  "vscode": {
   "interpreter": {
    "hash": "529b7aa4800c1104ef69a24038f1f74d3d6e07a14993a34c9b16b862fd952afd"
   }
  }
 },
 "nbformat": 4,
 "nbformat_minor": 2
}
